{
 "cells": [
  {
   "attachments": {},
   "cell_type": "markdown",
   "metadata": {},
   "source": [
    "#  Figure out how to install pyqt5 on your system. It was difficult for me as im on a MacBook M1, it\n",
    "\n",
    "Follow these directions for your particular operating system to get label image goin\n",
    "https://pypi.org/project/labelImg/\n",
    "\n",
    "After installing you should be able to run the folling command to run LabelImg\n",
    "\n",
    "NOTES: Once label image is running and the app opens: Under the view tab at the top of the screen there are options to set as single class and to auto save. These two options are a life saver as you can just draw the box, and it will auto label with the last label you assigned and then will autosave. So you can use the 'a' and 'd' keys to cycle through the images as quickley as possible. Make sure to keep the boxes tite as this will improve accuracy.\n",
    "\n",
    "IMPORTANT: The labels you assign to each image have to match (case sensitive, spacing, with no special characters)"
   ]
  },
  {
   "attachments": {},
   "cell_type": "markdown",
   "metadata": {},
   "source": [
    "You will need pyqt5 installed depending on your operating system there are many ways to do this. I installed it through Linux's sudo apt get "
   ]
  },
  {
   "cell_type": "code",
   "execution_count": null,
   "metadata": {},
   "outputs": [],
   "source": [
    "!pip install --upgrade pyqt5 lxml"
   ]
  },
  {
   "cell_type": "code",
   "execution_count": 2,
   "metadata": {},
   "outputs": [
    {
     "name": "stdout",
     "output_type": "stream",
     "text": [
      "^C\n"
     ]
    }
   ],
   "source": [
    "!labelImg"
   ]
  },
  {
   "cell_type": "code",
   "execution_count": null,
   "metadata": {},
   "outputs": [],
   "source": []
  },
  {
   "cell_type": "code",
   "execution_count": null,
   "metadata": {},
   "outputs": [],
   "source": []
  }
 ],
 "metadata": {
  "kernelspec": {
   "display_name": "Python 3",
   "language": "python",
   "name": "python3"
  },
  "language_info": {
   "codemirror_mode": {
    "name": "ipython",
    "version": 3
   },
   "file_extension": ".py",
   "mimetype": "text/x-python",
   "name": "python",
   "nbconvert_exporter": "python",
   "pygments_lexer": "ipython3",
   "version": "3.9.2"
  },
  "orig_nbformat": 4
 },
 "nbformat": 4,
 "nbformat_minor": 2
}
