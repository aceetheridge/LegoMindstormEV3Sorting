{
 "cells": [
  {
   "attachments": {},
   "cell_type": "markdown",
   "metadata": {},
   "source": [
    "Install All prerequisits"
   ]
  },
  {
   "cell_type": "code",
   "execution_count": null,
   "metadata": {},
   "outputs": [],
   "source": [
    "!pip3 install opencv-python\n",
    "!pip3 install pandas\n",
    "!pip3 install kaggle\n",
    "!pip3 install opendatasets"
   ]
  },
  {
   "cell_type": "code",
   "execution_count": 1,
   "metadata": {},
   "outputs": [],
   "source": [
    "import cv2\n",
    "import opendatasets as od\n",
    "\n",
    "import uuid\n",
    "\n",
    "import os\n",
    "\n",
    "import time\n",
    "\n",
    "import pandas as pd"
   ]
  },
  {
   "attachments": {},
   "cell_type": "markdown",
   "metadata": {},
   "source": [
    "Import partsList"
   ]
  },
  {
   "cell_type": "code",
   "execution_count": 12,
   "metadata": {},
   "outputs": [
    {
     "data": {
      "text/plain": [
       "0     3spokeangularblock3x120grey\n",
       "1         Angularbeam2x4modulered\n",
       "2        Angularbeam3x5modulegrey\n",
       "3       Angularbeam3x5modulewhite\n",
       "4        Angularbeam3x7modulegrey\n",
       "                 ...             \n",
       "85      trianglebeam5x3modulegrey\n",
       "86                Tube2modulegrey\n",
       "87     Turntablebottom28toothgrey\n",
       "88       Turntabletop28toothblack\n",
       "89                   Wormgeargrey\n",
       "Name: name, Length: 90, dtype: object"
      ]
     },
     "execution_count": 12,
     "metadata": {},
     "output_type": "execute_result"
    }
   ],
   "source": [
    "columns = ['id', 'name', 'part', 'count']\n",
    "csv = pd.read_csv('./partslistFull.csv', header=0,usecols=columns)\n",
    "\n",
    "names = csv['name']\n",
    "\n",
    "ids = csv['id']\n",
    "\n",
    "parts = csv['part']\n",
    "\n",
    "counts = csv['count']\n",
    "\n",
    "labels = names\n",
    "number_imgs=50\n",
    "labels"
   ]
  },
  {
   "attachments": {},
   "cell_type": "markdown",
   "metadata": {},
   "source": [
    "Set Images Path, This is where images will go I have already created a file called collectedImagesAll"
   ]
  },
  {
   "attachments": {},
   "cell_type": "markdown",
   "metadata": {},
   "source": [
    "Downloading from kaggle requires a kaggle.jsonyou will have to replace the credentials in that .json file with your own."
   ]
  },
  {
   "cell_type": "code",
   "execution_count": 2,
   "metadata": {},
   "outputs": [
    {
     "name": "stdout",
     "output_type": "stream",
     "text": [
      "Downloading lego-mindstorm-ev3-pictures.zip to ./lego-mindstorm-ev3-pictures\n"
     ]
    },
    {
     "name": "stderr",
     "output_type": "stream",
     "text": [
      "100%|██████████| 959M/959M [00:20<00:00, 49.1MB/s] \n"
     ]
    },
    {
     "name": "stdout",
     "output_type": "stream",
     "text": [
      "\n"
     ]
    }
   ],
   "source": [
    "od.download(\"https://www.kaggle.com/datasets/aaronetheridge/lego-mindstorm-ev3-pictures\")"
   ]
  },
  {
   "cell_type": "code",
   "execution_count": 9,
   "metadata": {},
   "outputs": [
    {
     "data": {
      "text/plain": [
       "'lego-mindstorm-ev3-pictures/yoloimages2'"
      ]
     },
     "execution_count": 9,
     "metadata": {},
     "output_type": "execute_result"
    }
   ],
   "source": [
    "IMAGES_PATH = os.path.join('lego-mindstorm-ev3-pictures', 'yoloimages2')\n",
    "IMAGES_PATH"
   ]
  },
  {
   "cell_type": "code",
   "execution_count": 10,
   "metadata": {},
   "outputs": [
    {
     "data": {
      "text/plain": [
       "'/home/crexiz/Documents/LegoMindstormEV3Sorting'"
      ]
     },
     "execution_count": 10,
     "metadata": {},
     "output_type": "execute_result"
    }
   ],
   "source": [
    "CURRENT_PATH = os.getcwd()\n",
    "CURRENT_PATH\n"
   ]
  },
  {
   "attachments": {},
   "cell_type": "markdown",
   "metadata": {},
   "source": [
    "The below script creates additional folders for new legos if they need to be added in the future."
   ]
  },
  {
   "cell_type": "code",
   "execution_count": 14,
   "metadata": {},
   "outputs": [
    {
     "name": "stdout",
     "output_type": "stream",
     "text": [
      "1 3spokeangularblock3x120grey\n",
      "2 Angularbeam2x4modulered\n",
      "3 Angularbeam3x5modulegrey\n",
      "4 Angularbeam3x5modulewhite\n",
      "5 Angularbeam3x7modulegrey\n",
      "6 Angularbeam4x4modulewhite\n",
      "7 Angularbeam4x6moduleblack\n",
      "8 Angularblock10black\n",
      "9 Angularblock2180black\n",
      "10 Angularblock690black\n",
      "11 Angularconnectorpeg3x3modulegrey\n",
      "12 Axle10moduleblack\n",
      "13 Axle12moduleblack\n",
      "14 Axle2modulered\n",
      "15 Axle3modulegrey\n",
      "16 Axle4moduleblack\n",
      "17 Axle5modulegrey\n",
      "18 Axle6moduleblack\n",
      "19 Axle7modulegrey\n",
      "20 Axle8moduleblack\n",
      "21 Axle9modulegrey\n",
      "22 Axlewithstop4moduledarkgrey\n",
      "23 Axlewithstop8moduledarkgrey\n",
      "24 Axlewithstud3moduledarkbeige\n",
      "25 Ballbearingdarkgrey\n",
      "26 Beam11modulegrey\n",
      "27 Beam13modulegrey\n",
      "28 Beam15modulewhite\n",
      "29 Beam3moduleblack\n",
      "30 Beam3moduleblue\n",
      "31 Beam3modulegreen\n",
      "32 Beam3modulered\n",
      "33 Beam3moduleyellow\n",
      "34 beam4moduleblack\n",
      "35 Beam5modulegrey\n",
      "36 Beam7modulegrey\n",
      "37 Beam9modulegrey\n",
      "38 Beamwithcrosshole2moduleblack\n",
      "39 Bevelgear12toothbeige\n",
      "40 Bushing1modulegrey\n",
      "41 Bushingaxleextender2modulered\n",
      "42 Bushingmoduleyellow\n",
      "43 Connectorpeg2modulegrey\n",
      "44 Connectorpeg3modulebeige\n",
      "45 Connectorpegwithaxle2modulebeige\n",
      "46 Connectorpegwithbushing3modulered\n",
      "47 Connectorpegwithfriction2moduleblack\n",
      "48 Connectorpegwithfriction3moduleblue\n",
      "49 Connectorpegwithfrictionaxle2moduleblue\n",
      "50 Connectorpegwithhandle3moduleblack\n",
      "51 Crossbeam2x1modulered\n",
      "52 Crossblock2modulegrey\n",
      "53 Crossblock2x2moduleblack\n",
      "54 Crossblock3moduledarkgrey\n",
      "55 Crossblock3x2modulegrey\n",
      "56 Crossblockfork2x2moduleblack\n",
      "57 Doubleangularbeam3x7modulewhite\n",
      "58 Doubleangularbeam3x7modulewhite\n",
      "59 Doublebevelgear12toothblack\n",
      "60 Doublebevelgear20toothblack\n",
      "61 Doublebevelgear36toothblack\n",
      "62 Doubleconnectorpeg3modulegrey\n",
      "63 Doubleconnectorpeg3x3modulegrey\n",
      "64 Doublecrossblock3moduleblack\n",
      "65 Frame5x11modulegrey\n",
      "66 Frame5x7modulegrey\n",
      "67 Gear16toothgrey\n",
      "68 Gear24toothdarkgrey\n",
      "69 Gear40toothgrey\n",
      "70 Gear4toothblack\n",
      "71 Gear8toothdarkgrey\n",
      "72 Hub24x4mmdarkgrey\n",
      "73 Hub432x26mmgrey\n",
      "74 Leftcurvedpanel3x5moduleblack\n",
      "75 Leftcurvedpanel5x11moduleblack\n",
      "76 Lowprofiletire56x28mmblack\n",
      "77 Pointer3modulewhite\n",
      "78 Rightcurvedpanel3x5moduleblack\n",
      "79 Rightcurvedpanel5x11moduleblack\n",
      "80 Rubberbeamwithcrossholes2moduleblack\n",
      "81 Sprocket407x15mmblack\n",
      "82 SteelBallsilvermetallic\n",
      "83 TBeam3x3moduleblack\n",
      "84 Tire304x4mmblack\n",
      "85 Track5x15moduleblack\n",
      "86 trianglebeam5x3modulegrey\n",
      "87 Tube2modulegrey\n",
      "88 Turntablebottom28toothgrey\n",
      "89 Turntabletop28toothblack\n",
      "90 Wormgeargrey\n"
     ]
    }
   ],
   "source": [
    "# This creates all the folders for images based on the partslist\n",
    "count = 1\n",
    "if not os.path.exists(IMAGES_PATH):\n",
    "    if os.name == 'posix':\n",
    "        !mkdir -p {IMAGES_PATH}\n",
    "    if os.name == 'nt':\n",
    "        !mkdir {IMAGES_PATH}\n",
    "for label in labels:\n",
    "    print(count, label)\n",
    "    path = os.path.join(IMAGES_PATH, str(label))\n",
    "    if not os.path.exists(path):\n",
    "        !mkdir -p {path}\n",
    "    count= count + 1"
   ]
  },
  {
   "attachments": {},
   "cell_type": "markdown",
   "metadata": {},
   "source": [
    "The below 2 code blocks will take a set number of images and then switch to another camera. By default the video capture inputs are set to 2 and 0 but these are usually in a range of [0-4] just try different numbers when you start up this script. They will change every time you restart your machine."
   ]
  },
  {
   "cell_type": "code",
   "execution_count": null,
   "metadata": {},
   "outputs": [],
   "source": [
    "labels = names\n",
    "\n",
    "number_imgs=50 # This specifies the number of images to be taken"
   ]
  },
  {
   "attachments": {},
   "cell_type": "markdown",
   "metadata": {},
   "source": [
    "Collecting Images Script, will flip between two cameras for multiple angles\n",
    "Hit 'q' to stop"
   ]
  },
  {
   "cell_type": "code",
   "execution_count": null,
   "metadata": {},
   "outputs": [],
   "source": [
    "# DO NOT run this unless you are READY to capture new additional images outside of the Kaggle dataset. Any images\n",
    "# that are captured will need to be labeled with label image.\n",
    "# When you start the image collection code block below, hit the 'q' key to stop at any time during image capturing.\n",
    "try:\n",
    "    for label in labels:\n",
    "        cap = cv2.VideoCapture(2) #Image source 1\n",
    "        while ( 'cap' in locals() and cap.isOpened()):\n",
    "            if cv2.waitKey(10) & 0xFF == ord('q'):            \n",
    "                raise Exception(\"Date provided can't be in the past\")\n",
    "            print('Collecting images for part {}'.format(str(label)), end=\"\\r\")\n",
    "\n",
    "            for imgnum in range(number_imgs):\n",
    "                print('Collecting image {}'.format(imgnum), end=\"\\r\")\n",
    "                ret, frame = cap.read()\n",
    "                imgname = os.path.join(IMAGES_PATH, str(label), str(label)+'.'+'{}.jpg'.format(str(uuid.uuid1())))\n",
    "                cv2.imwrite(imgname,frame)\n",
    "                cv2.imshow('cam1', frame)\n",
    "                time.sleep(.5)\n",
    "                if cv2.waitKey(10) & 0xFF == ord('q'):            \n",
    "                    raise Exception(\"Date provided can't be in the past\")\n",
    "            time.sleep(5)\n",
    "            cap.release()\n",
    "            cv2.destroyAllWindows()\n",
    "        cap = cv2.VideoCapture(0) #Image source 1\n",
    "        while ( 'cap' in locals() and cap.isOpened()):\n",
    "            if cv2.waitKey(10) & 0xFF == ord('q'):            \n",
    "                raise Exception(\"Date provided can't be in the past\")\n",
    "            print('Collecting images for part {}'.format(str(label)), end=\"\\r\")\n",
    "\n",
    "            for imgnum in range(number_imgs):\n",
    "                print('Collecting image {}'.format(imgnum), end=\"\\r\")\n",
    "                ret, frame = cap.read()\n",
    "                imgname = os.path.join(IMAGES_PATH, str(label), str(label)+'.'+'{}.jpg'.format(str(uuid.uuid1())))\n",
    "                cv2.imwrite(imgname,frame)\n",
    "                cv2.imshow('cam1', frame)\n",
    "                time.sleep(.5)\n",
    "                if cv2.waitKey(10) & 0xFF == ord('q'):            \n",
    "                    raise Exception(\"Date provided can't be in the past\")\n",
    "            print(\"switch now\")\n",
    "            time.sleep(15)\n",
    "            cap.release()\n",
    "            cv2.destroyAllWindows()\n",
    "        \n",
    "            \n",
    "except:\n",
    "    print(\"some error\")\n",
    "    if('cap' in locals() and cap.isOpened()):\n",
    "        cap.release()\n",
    "    cv2.destroyAllWindows()  "
   ]
  },
  {
   "attachments": {},
   "cell_type": "markdown",
   "metadata": {},
   "source": [
    "The below code will just clear the cv2 instance if its causing glitches."
   ]
  },
  {
   "cell_type": "code",
   "execution_count": null,
   "metadata": {},
   "outputs": [],
   "source": [
    "if('cap' in locals() and cap.isOpened()):\n",
    "        cap.release()\n",
    "\n",
    "cv2.destroyAllWindows()"
   ]
  },
  {
   "cell_type": "markdown",
   "metadata": {},
   "source": []
  }
 ],
 "metadata": {
  "kernelspec": {
   "display_name": "Python 3",
   "language": "python",
   "name": "python3"
  },
  "language_info": {
   "codemirror_mode": {
    "name": "ipython",
    "version": 3
   },
   "file_extension": ".py",
   "mimetype": "text/x-python",
   "name": "python",
   "nbconvert_exporter": "python",
   "pygments_lexer": "ipython3",
   "version": "3.9.2"
  },
  "orig_nbformat": 4
 },
 "nbformat": 4,
 "nbformat_minor": 2
}
